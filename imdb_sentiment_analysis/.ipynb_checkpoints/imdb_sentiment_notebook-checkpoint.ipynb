{
 "cells": [
  {
   "cell_type": "markdown",
   "metadata": {},
   "source": [
    "# IMDB Movie Review Sentiment Analysis Using Keras"
   ]
  },
  {
   "cell_type": "code",
   "execution_count": 50,
   "metadata": {},
   "outputs": [],
   "source": [
    "# Imports\n",
    "import numpy as np\n",
    "import keras\n",
    "from keras.datasets import imdb\n",
    "from keras.models import Sequential\n",
    "from keras.layers import Dense, Dropout, Activation, Flatten\n",
    "from keras.preprocessing.text import Tokenizer\n",
    "import matplotlib.pyplot as plt\n",
    "from sklearn.model_selection import train_test_split\n",
    "from keras.wrappers.scikit_learn import KerasClassifier\n",
    "from keras.callbacks import ModelCheckpoint\n",
    "from sklearn.model_selection import GridSearchCV\n",
    "%matplotlib inline\n",
    "\n",
    "np.random.seed(1987)"
   ]
  },
  {
   "cell_type": "markdown",
   "metadata": {},
   "source": [
    "### Load the dataset\n",
    "\n",
    "The IMDB movie review dataset comes preloaded with Keras. We have the ability to select the number of words for each review as a parameter."
   ]
  },
  {
   "cell_type": "code",
   "execution_count": 76,
   "metadata": {},
   "outputs": [
    {
     "name": "stdout",
     "output_type": "stream",
     "text": [
      "(25000,)\n",
      "(25000,)\n"
     ]
    }
   ],
   "source": [
    "# Loading the data (it's preloaded in Keras)\n",
    "(X_train, y_train), (X_test, y_test) = imdb.load_data()\n",
    "\n",
    "print(X_train.shape)\n",
    "print(X_test.shape)"
   ]
  },
  {
   "cell_type": "code",
   "execution_count": 77,
   "metadata": {},
   "outputs": [
    {
     "name": "stdout",
     "output_type": "stream",
     "text": [
      "[1, 14, 22, 16, 43, 530, 973, 1622, 1385, 65, 458, 4468, 66, 3941, 4, 173, 36, 256, 5, 25, 100, 43, 838, 112, 50, 670, 22665, 9, 35, 480, 284, 5, 150, 4, 172, 112, 167, 21631, 336, 385, 39, 4, 172, 4536, 1111, 17, 546, 38, 13, 447, 4, 192, 50, 16, 6, 147, 2025, 19, 14, 22, 4, 1920, 4613, 469, 4, 22, 71, 87, 12, 16, 43, 530, 38, 76, 15, 13, 1247, 4, 22, 17, 515, 17, 12, 16, 626, 18, 19193, 5, 62, 386, 12, 8, 316, 8, 106, 5, 4, 2223, 5244, 16, 480, 66, 3785, 33, 4, 130, 12, 16, 38, 619, 5, 25, 124, 51, 36, 135, 48, 25, 1415, 33, 6, 22, 12, 215, 28, 77, 52, 5, 14, 407, 16, 82, 10311, 8, 4, 107, 117, 5952, 15, 256, 4, 31050, 7, 3766, 5, 723, 36, 71, 43, 530, 476, 26, 400, 317, 46, 7, 4, 12118, 1029, 13, 104, 88, 4, 381, 15, 297, 98, 32, 2071, 56, 26, 141, 6, 194, 7486, 18, 4, 226, 22, 21, 134, 476, 26, 480, 5, 144, 30, 5535, 18, 51, 36, 28, 224, 92, 25, 104, 4, 226, 65, 16, 38, 1334, 88, 12, 16, 283, 5, 16, 4472, 113, 103, 32, 15, 16, 5345, 19, 178, 32]\n",
      "1\n"
     ]
    }
   ],
   "source": [
    "print(X_train[0])\n",
    "print(y_train[0])"
   ]
  },
  {
   "cell_type": "code",
   "execution_count": 61,
   "metadata": {},
   "outputs": [
    {
     "data": {
      "text/plain": [
       "2494"
      ]
     },
     "execution_count": 61,
     "metadata": {},
     "output_type": "execute_result"
    }
   ],
   "source": [
    "lengths = [len(i) for i in X_train]\n",
    "len(max(X_train,key=len))"
   ]
  },
  {
   "cell_type": "markdown",
   "metadata": {},
   "source": [
    "### Preprocessing the data"
   ]
  },
  {
   "cell_type": "code",
   "execution_count": 62,
   "metadata": {},
   "outputs": [
    {
     "name": "stdout",
     "output_type": "stream",
     "text": [
      "[0. 1. 0. ... 0. 0. 0.]\n"
     ]
    }
   ],
   "source": [
    "tokenizer = Tokenizer(num_words=3000)\n",
    "X_train = tokenizer.sequences_to_matrix(X_train, mode='binary')\n",
    "X_test = tokenizer.sequences_to_matrix(X_test, mode='binary')\n",
    "print(X_train[1])"
   ]
  },
  {
   "cell_type": "code",
   "execution_count": null,
   "metadata": {},
   "outputs": [],
   "source": []
  },
  {
   "cell_type": "markdown",
   "metadata": {},
   "source": [
    "### Model Architecture and GridSearchCV"
   ]
  },
  {
   "cell_type": "code",
   "execution_count": 18,
   "metadata": {},
   "outputs": [],
   "source": [
    "def plot_performance(history):\n",
    "    plt.figure(figsize=(15,15))\n",
    "    plt.subplot(211)  \n",
    "    plt.plot(history.history['acc'])  \n",
    "    plt.plot(history.history['val_acc'])  \n",
    "    plt.title('model accuracy')  \n",
    "    plt.ylabel('accuracy')  \n",
    "    plt.xlabel('epoch')  \n",
    "    plt.legend(['train', 'test'], loc='upper left')  \n",
    "    \n",
    "    plt.subplot(212)  \n",
    "    plt.plot(history.history['loss'])  \n",
    "    plt.plot(history.history['val_loss'])  \n",
    "    plt.title('model loss')  \n",
    "    plt.ylabel('loss')  \n",
    "    plt.xlabel('epoch')  \n",
    "    plt.legend(['train', 'test'], loc='upper left')  \n",
    "    plt.show()"
   ]
  },
  {
   "cell_type": "code",
   "execution_count": null,
   "metadata": {},
   "outputs": [],
   "source": [
    "# def build_classifier(optimizer):\n",
    "#     classifier = Sequential()\n",
    "#     classifier.add(Dense(units = 32, activation = 'relu', input_shape = X_train.shape[1:]))\n",
    "#     classifier.add(Dense(units = 64, activation = 'relu'))\n",
    "#     classifier.add(Dense(units = 128, activation = 'relu'))\n",
    "#     classifier.add(Dense(units = 2, activation = 'sigmoid'))\n",
    "#     classifier.compile(optimizer = optimizer, loss = 'sparse_categorical_crossentropy', metrics = ['accuracy'])\n",
    "#     return classifier\n",
    "\n",
    "# parameters = {'batch_size': [25, 32],\n",
    "#               'epochs': [100, 300],\n",
    "#               'optimizer': ['adam', 'rmsprop']}"
   ]
  },
  {
   "cell_type": "code",
   "execution_count": null,
   "metadata": {},
   "outputs": [],
   "source": [
    "# classifier = KerasClassifier(build_fn = build_classifier)\n",
    "# grid_search = GridSearchCV(estimator = classifier,\n",
    "#                            param_grid = parameters,\n",
    "#                            scoring = 'accuracy',\n",
    "#                            cv = 5)"
   ]
  },
  {
   "cell_type": "code",
   "execution_count": null,
   "metadata": {
    "scrolled": true
   },
   "outputs": [],
   "source": [
    "# grid_search = grid_search.fit(X_train, y_train)"
   ]
  },
  {
   "cell_type": "code",
   "execution_count": null,
   "metadata": {},
   "outputs": [],
   "source": [
    "# grid_search.best_params_"
   ]
  },
  {
   "cell_type": "markdown",
   "metadata": {},
   "source": [
    "### Applying optimal params to model training"
   ]
  },
  {
   "cell_type": "code",
   "execution_count": 63,
   "metadata": {},
   "outputs": [
    {
     "name": "stdout",
     "output_type": "stream",
     "text": [
      "(25000, 2)\n",
      "(25000, 2)\n"
     ]
    }
   ],
   "source": [
    "num_classes = 2\n",
    "y_train = keras.utils.to_categorical(y_train, num_classes)\n",
    "y_test = keras.utils.to_categorical(y_test, num_classes)\n",
    "print(y_train.shape)\n",
    "print(y_test.shape)"
   ]
  },
  {
   "cell_type": "code",
   "execution_count": 64,
   "metadata": {},
   "outputs": [],
   "source": [
    "X_train, X_val, y_train, y_val = train_test_split(X_train, y_train, test_size=0.33, random_state=1987)"
   ]
  },
  {
   "cell_type": "code",
   "execution_count": 65,
   "metadata": {},
   "outputs": [
    {
     "name": "stdout",
     "output_type": "stream",
     "text": [
      "_________________________________________________________________\n",
      "Layer (type)                 Output Shape              Param #   \n",
      "=================================================================\n",
      "dropout_5 (Dropout)          (None, 3000)              0         \n",
      "_________________________________________________________________\n",
      "dense_5 (Dense)              (None, 1024)              3073024   \n",
      "_________________________________________________________________\n",
      "dropout_6 (Dropout)          (None, 1024)              0         \n",
      "_________________________________________________________________\n",
      "dense_6 (Dense)              (None, 2)                 2050      \n",
      "=================================================================\n",
      "Total params: 3,075,074\n",
      "Trainable params: 3,075,074\n",
      "Non-trainable params: 0\n",
      "_________________________________________________________________\n"
     ]
    }
   ],
   "source": [
    "opt_model = Sequential()\n",
    "opt_model.add(Dropout(0.2, input_shape = X_train.shape[1:]))\n",
    "opt_model.add(Dense(units = 1024, activation = 'relu'))\n",
    "opt_model.add(Dropout(0.6))\n",
    "opt_model.add(Dense(units = 2, activation = 'sigmoid'))\n",
    "opt_model.summary()"
   ]
  },
  {
   "cell_type": "code",
   "execution_count": 66,
   "metadata": {},
   "outputs": [],
   "source": [
    "from keras import optimizers\n",
    "\n",
    "adam = optimizers.Adam(lr = 0.00001)\n",
    "opt_model.compile(loss = \"binary_crossentropy\", \n",
    "                    optimizer = adam, \n",
    "                    metrics=[\"accuracy\"])\n",
    "\n",
    "epochs=50\n",
    "batch_size=32"
   ]
  },
  {
   "cell_type": "code",
   "execution_count": 67,
   "metadata": {
    "scrolled": true
   },
   "outputs": [
    {
     "name": "stdout",
     "output_type": "stream",
     "text": [
      "Train on 16750 samples, validate on 8250 samples\n",
      "Epoch 1/50\n",
      "16750/16750 [==============================] - 16s 959us/step - loss: 0.6836 - acc: 0.5586 - val_loss: 0.6434 - val_acc: 0.7059\n",
      "Epoch 2/50\n",
      "16750/16750 [==============================] - 16s 935us/step - loss: 0.6301 - acc: 0.6663 - val_loss: 0.5967 - val_acc: 0.7891\n",
      "Epoch 3/50\n",
      "16750/16750 [==============================] - 16s 933us/step - loss: 0.5862 - acc: 0.7291 - val_loss: 0.5528 - val_acc: 0.8176\n",
      "Epoch 4/50\n",
      "16750/16750 [==============================] - 16s 929us/step - loss: 0.5426 - acc: 0.7699 - val_loss: 0.5116 - val_acc: 0.8356\n",
      "Epoch 5/50\n",
      "16750/16750 [==============================] - 16s 948us/step - loss: 0.5034 - acc: 0.7984 - val_loss: 0.4748 - val_acc: 0.8444\n",
      "Epoch 6/50\n",
      "16750/16750 [==============================] - 16s 947us/step - loss: 0.4685 - acc: 0.8166 - val_loss: 0.4435 - val_acc: 0.8521\n",
      "Epoch 7/50\n",
      "16750/16750 [==============================] - 16s 974us/step - loss: 0.4421 - acc: 0.8305 - val_loss: 0.4176 - val_acc: 0.8567\n",
      "Epoch 8/50\n",
      "16750/16750 [==============================] - 16s 978us/step - loss: 0.4197 - acc: 0.8367 - val_loss: 0.3967 - val_acc: 0.8609\n",
      "Epoch 9/50\n",
      "16750/16750 [==============================] - 17s 990us/step - loss: 0.3969 - acc: 0.8476 - val_loss: 0.3789 - val_acc: 0.8648\n",
      "Epoch 10/50\n",
      "16750/16750 [==============================] - 16s 975us/step - loss: 0.3848 - acc: 0.8481 - val_loss: 0.3650 - val_acc: 0.8655\n",
      "Epoch 11/50\n",
      "16750/16750 [==============================] - 16s 981us/step - loss: 0.3683 - acc: 0.8539 - val_loss: 0.3530 - val_acc: 0.8684\n",
      "Epoch 12/50\n",
      "16750/16750 [==============================] - 16s 979us/step - loss: 0.3563 - acc: 0.8605 - val_loss: 0.3433 - val_acc: 0.8703\n",
      "Epoch 13/50\n",
      "16750/16750 [==============================] - 17s 1ms/step - loss: 0.3453 - acc: 0.8624 - val_loss: 0.3357 - val_acc: 0.8718\n",
      "Epoch 14/50\n",
      "16750/16750 [==============================] - 17s 1ms/step - loss: 0.3381 - acc: 0.8665 - val_loss: 0.3289 - val_acc: 0.8739\n",
      "Epoch 15/50\n",
      "16750/16750 [==============================] - 18s 1ms/step - loss: 0.3293 - acc: 0.8684 - val_loss: 0.3233 - val_acc: 0.8747\n",
      "Epoch 16/50\n",
      "16750/16750 [==============================] - 17s 1ms/step - loss: 0.3229 - acc: 0.8711 - val_loss: 0.3184 - val_acc: 0.8753\n",
      "Epoch 17/50\n",
      "16750/16750 [==============================] - 18s 1ms/step - loss: 0.3180 - acc: 0.8747 - val_loss: 0.3144 - val_acc: 0.8767\n",
      "Epoch 18/50\n",
      "16750/16750 [==============================] - 17s 1ms/step - loss: 0.3084 - acc: 0.8781 - val_loss: 0.3113 - val_acc: 0.8767\n",
      "Epoch 19/50\n",
      "16750/16750 [==============================] - 16s 972us/step - loss: 0.3029 - acc: 0.8807 - val_loss: 0.3079 - val_acc: 0.8783\n",
      "Epoch 20/50\n",
      "16750/16750 [==============================] - 17s 1ms/step - loss: 0.3020 - acc: 0.8799 - val_loss: 0.3053 - val_acc: 0.8792\n",
      "Epoch 21/50\n",
      "16750/16750 [==============================] - 17s 1ms/step - loss: 0.2971 - acc: 0.8812 - val_loss: 0.3030 - val_acc: 0.8797\n",
      "Epoch 22/50\n",
      "16750/16750 [==============================] - 16s 937us/step - loss: 0.2943 - acc: 0.8831 - val_loss: 0.3012 - val_acc: 0.8807\n",
      "Epoch 23/50\n",
      "16750/16750 [==============================] - 17s 989us/step - loss: 0.2897 - acc: 0.8835 - val_loss: 0.3001 - val_acc: 0.8804\n",
      "Epoch 24/50\n",
      "16750/16750 [==============================] - 17s 1000us/step - loss: 0.2863 - acc: 0.8874 - val_loss: 0.2981 - val_acc: 0.8814\n",
      "Epoch 25/50\n",
      "16750/16750 [==============================] - 17s 990us/step - loss: 0.2809 - acc: 0.8872 - val_loss: 0.2969 - val_acc: 0.8817\n",
      "Epoch 26/50\n",
      "16750/16750 [==============================] - 17s 993us/step - loss: 0.2800 - acc: 0.8875 - val_loss: 0.2957 - val_acc: 0.8830\n",
      "Epoch 27/50\n",
      "16750/16750 [==============================] - 16s 963us/step - loss: 0.2784 - acc: 0.8876 - val_loss: 0.2948 - val_acc: 0.8830\n",
      "Epoch 28/50\n",
      "16750/16750 [==============================] - 16s 981us/step - loss: 0.2740 - acc: 0.8904 - val_loss: 0.2939 - val_acc: 0.8839\n",
      "Epoch 29/50\n",
      "16750/16750 [==============================] - 16s 977us/step - loss: 0.2694 - acc: 0.8930 - val_loss: 0.2935 - val_acc: 0.8838\n",
      "Epoch 30/50\n",
      "16750/16750 [==============================] - 17s 993us/step - loss: 0.2695 - acc: 0.8931 - val_loss: 0.2926 - val_acc: 0.8841\n",
      "Epoch 31/50\n",
      "16750/16750 [==============================] - 16s 969us/step - loss: 0.2642 - acc: 0.8939 - val_loss: 0.2920 - val_acc: 0.8846\n",
      "Epoch 32/50\n",
      "16750/16750 [==============================] - 16s 970us/step - loss: 0.2649 - acc: 0.8938 - val_loss: 0.2915 - val_acc: 0.8842\n",
      "Epoch 33/50\n",
      "16750/16750 [==============================] - 16s 969us/step - loss: 0.2625 - acc: 0.8958 - val_loss: 0.2911 - val_acc: 0.8841\n",
      "Epoch 34/50\n",
      "16750/16750 [==============================] - 16s 969us/step - loss: 0.2625 - acc: 0.8961 - val_loss: 0.2909 - val_acc: 0.8850\n",
      "Epoch 35/50\n",
      "16750/16750 [==============================] - 16s 968us/step - loss: 0.2580 - acc: 0.8981 - val_loss: 0.2906 - val_acc: 0.8847\n",
      "Epoch 36/50\n",
      "16750/16750 [==============================] - 16s 975us/step - loss: 0.2563 - acc: 0.8973 - val_loss: 0.2905 - val_acc: 0.8845\n",
      "Epoch 37/50\n",
      "16750/16750 [==============================] - 16s 971us/step - loss: 0.2551 - acc: 0.8976 - val_loss: 0.2907 - val_acc: 0.8839\n",
      "Epoch 38/50\n",
      "16750/16750 [==============================] - 17s 987us/step - loss: 0.2522 - acc: 0.8987 - val_loss: 0.2900 - val_acc: 0.8838\n",
      "Epoch 39/50\n",
      "16750/16750 [==============================] - 17s 991us/step - loss: 0.2536 - acc: 0.8986 - val_loss: 0.2902 - val_acc: 0.8845\n",
      "Epoch 40/50\n",
      "16750/16750 [==============================] - 17s 989us/step - loss: 0.2498 - acc: 0.8999 - val_loss: 0.2899 - val_acc: 0.8844\n",
      "Epoch 41/50\n",
      "16750/16750 [==============================] - 16s 985us/step - loss: 0.2459 - acc: 0.9012 - val_loss: 0.2901 - val_acc: 0.8847\n",
      "Epoch 42/50\n",
      "16750/16750 [==============================] - 17s 1ms/step - loss: 0.2455 - acc: 0.9022 - val_loss: 0.2900 - val_acc: 0.8840\n",
      "Epoch 43/50\n",
      "16750/16750 [==============================] - 16s 981us/step - loss: 0.2467 - acc: 0.9027 - val_loss: 0.2903 - val_acc: 0.8843\n",
      "Epoch 44/50\n",
      "16750/16750 [==============================] - 16s 974us/step - loss: 0.2412 - acc: 0.9069 - val_loss: 0.2901 - val_acc: 0.8844\n",
      "Epoch 45/50\n",
      "16750/16750 [==============================] - 16s 971us/step - loss: 0.2409 - acc: 0.9020 - val_loss: 0.2904 - val_acc: 0.8838\n",
      "Epoch 46/50\n",
      "16750/16750 [==============================] - 17s 992us/step - loss: 0.2398 - acc: 0.9053 - val_loss: 0.2904 - val_acc: 0.8837\n",
      "Epoch 47/50\n",
      "16750/16750 [==============================] - 16s 976us/step - loss: 0.2379 - acc: 0.9075 - val_loss: 0.2910 - val_acc: 0.8829\n",
      "Epoch 48/50\n",
      "16750/16750 [==============================] - 17s 1ms/step - loss: 0.2402 - acc: 0.9039 - val_loss: 0.2906 - val_acc: 0.8841\n",
      "Epoch 49/50\n",
      "16750/16750 [==============================] - 17s 1ms/step - loss: 0.2352 - acc: 0.9074 - val_loss: 0.2907 - val_acc: 0.8840\n",
      "Epoch 50/50\n",
      "16750/16750 [==============================] - 16s 982us/step - loss: 0.2352 - acc: 0.9070 - val_loss: 0.2907 - val_acc: 0.8835\n"
     ]
    }
   ],
   "source": [
    "opt_model_history = opt_model.fit(X_train, y_train, \n",
    "          validation_data=(X_val, y_val),\n",
    "          epochs=epochs, batch_size=batch_size, verbose=1)"
   ]
  },
  {
   "cell_type": "code",
   "execution_count": 68,
   "metadata": {},
   "outputs": [
    {
     "data": {
      "image/png": "[encoded data removed]",
      "text/plain": [
       "<Figure size 1080x1080 with 2 Axes>"
      ]
     },
     "metadata": {},
     "output_type": "display_data"
    }
   ],
   "source": [
    "plot_performance(opt_model_history)"
   ]
  },
  {
   "cell_type": "code",
   "execution_count": 69,
   "metadata": {},
   "outputs": [
    {
     "name": "stdout",
     "output_type": "stream",
     "text": [
      "Accuracy:  0.8831\n"
     ]
    }
   ],
   "source": [
    "score = opt_model.evaluate(X_test, y_test, verbose=0)\n",
    "print(\"Accuracy: \", score[1])"
   ]
  },
  {
   "cell_type": "code",
   "execution_count": null,
   "metadata": {},
   "outputs": [],
   "source": []
  }
 ],
 "metadata": {
  "kernelspec": {
   "display_name": "Python 3",
   "language": "python",
   "name": "python3"
  },
  "language_info": {
   "codemirror_mode": {
    "name": "ipython",
    "version": 3
   },
   "file_extension": ".py",
   "mimetype": "text/x-python",
   "name": "python",
   "nbconvert_exporter": "python",
   "pygments_lexer": "ipython3",
   "version": "3.6.4"
  }
 },
 "nbformat": 4,
 "nbformat_minor": 2
}
