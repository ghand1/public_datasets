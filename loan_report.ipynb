{
 "cells": [
  {
   "cell_type": "code",
   "execution_count": 1,
   "metadata": {
    "collapsed": true
   },
   "outputs": [],
   "source": [
    "#data.raw = read.csv('loan.csv')"
   ]
  },
  {
   "cell_type": "code",
   "execution_count": 2,
   "metadata": {
    "collapsed": false
   },
   "outputs": [],
   "source": [
    "#samp = floor(0.2 * nrow(data.raw))\n",
    "#temp = sample(seq_len(nrow(data.raw)), size = samp)\n",
    "#data = data.raw[temp, ]"
   ]
  },
  {
   "cell_type": "code",
   "execution_count": 3,
   "metadata": {
    "collapsed": false
   },
   "outputs": [],
   "source": [
    "#columns = c(\"id\", \"loan_amnt\", \"addr_state\", \"term\", \"int_rate\", \"installment\", \n",
    "#  \"grade\", \"emp_length\", \"home_ownership\", \"annual_inc\", \"open_acc\", \"acc_now_delinq\",\n",
    "#  \"loan_status\", \"pymnt_plan\", \"purpose\", \"application_type\", \"delinq_2yrs\", \"verification_status\")"
   ]
  },
  {
   "cell_type": "code",
   "execution_count": 4,
   "metadata": {
    "collapsed": false
   },
   "outputs": [],
   "source": [
    "#data = data[,columns]"
   ]
  },
  {
   "cell_type": "code",
   "execution_count": 5,
   "metadata": {
    "collapsed": true
   },
   "outputs": [],
   "source": [
    "#write.csv(data, \"loan_fifth.csv\")"
   ]
  },
  {
   "cell_type": "markdown",
   "metadata": {},
   "source": [
    "# Exploring Financial Loans Issued by Lending Club\n",
    "#### David Ghan\n",
    "\n",
    "    Table of Contents:\n",
    "    1. Import Libraries and Clean Data\n",
    "    2. Data Exploration and Visualization\n",
    "    3. Hypothesis Testing\n",
    "    4. Predictive Analysis\n",
    "    5. Insights and Conclusions\n",
    "_____\n",
    "\n",
    "This report will explore Lending Club's loan data from 2007 to 2015. The data consists of details regarding issued loans to individuals as well as the status and history of each loan. Specific columns have been anonymized for privacy reasons. The primary purpose of this report is to identify trends and correlations that might help to understand details about the borrower or loan type that explain the respective loan status.\n",
    "\n",
    "A loan's status can be one of seven possible things:\n",
    "1. Current\n",
    "2. Fully Paid\n",
    "3. Charged Off\n",
    "4. Late (16-30 days)\n",
    "5. Late (31-120 days)\n",
    "6. Default\n",
    "7. Does not meet the credit policy. Status:Charged Off\n",
    "8. Does not meet the credit policy. Status:Fully Paid\n",
    "9. Issued\n",
    "10. In Grace Period\n",
    "11. (Other)\n",
    "\n",
    "The raw dataset contained 77 features, many of which contained mostly missing values. For the purpose of better exploring the data without requiring an advanced understanding of lending financials, I reduced the features down to 21. \n",
    "\n",
    "I will also split the data into \"good loans\" and \"bad loans\". Bad loans are those that are late or defaulted among other statuses that represent poor standing with the lender. These statuses for bad loans are:\n",
    "\n",
    "\n",
    "\n",
    "**bad_loans**:\n",
    "1. Charged Off\n",
    "2. Late (16-30 days)\n",
    "3. Late (31-120 days)\n",
    "4. Default\n",
    "5. Does not meet the credit policy. Status:Charged Off\n",
    "\n",
    "\n",
    "\n",
    "The remaining statuses will be considered \"good loans\", since these statuses do not signifiy the borrower's inability to make payments:\n",
    "\n",
    "\n",
    "\n",
    "**good_loans**:\n",
    "1. Current\n",
    "2. Fully Paid\n",
    "3. Does not meet the credit policy. Status:Fully Paid\n",
    "4. Issued\n",
    "5. In Grace Period\n",
    "6. (Other)\n",
    " \n",
    " \n",
    " \n",
    "This report will primarily focus on the data as it is distributed according to the two classes of \"good\" vs. \"bad\". "
   ]
  },
  {
   "cell_type": "markdown",
   "metadata": {},
   "source": [
    "## 1. Import Libraries and Clean Data"
   ]
  },
  {
   "cell_type": "code",
   "execution_count": 167,
   "metadata": {
    "collapsed": false
   },
   "outputs": [
    {
     "name": "stderr",
     "output_type": "stream",
     "text": [
      "\n",
      "Attaching package: 'MLmetrics'\n",
      "\n",
      "The following objects are masked from 'package:caret':\n",
      "\n",
      "    MAE, RMSE\n",
      "\n",
      "The following object is masked from 'package:base':\n",
      "\n",
      "    Recall\n",
      "\n"
     ]
    }
   ],
   "source": [
    "options(warn=-1)\n",
    "library(ggplot2)\n",
    "library(e1071)\n",
    "library(gridExtra)\n",
    "library(simpleboot)\n",
    "library(MASS)\n",
    "library(caret)\n",
    "library(mlbench)\n",
    "library(choroplethr)\n",
    "library(MLmetrics)"
   ]
  },
  {
   "cell_type": "code",
   "execution_count": 209,
   "metadata": {
    "collapsed": false
   },
   "outputs": [],
   "source": [
    "#data = read.csv(\"loan_data_reduced.csv\")\n",
    "data = read.csv(\"loan_fifth.csv\")\n",
    "data = data[complete.cases(data), ]"
   ]
  },
  {
   "cell_type": "code",
   "execution_count": 210,
   "metadata": {
    "collapsed": false
   },
   "outputs": [],
   "source": [
    "levels(data$loan_status)[levels(data$loan_status)==\"Does not meet the credit policy. Status:Charged Off\"] <- \"Against policy: Charged Off\"\n",
    "levels(data$loan_status)[levels(data$loan_status)==\"Does not meet the credit policy. Status:Fully Paid\"] <- \"Against policy: Fully Paid\""
   ]
  },
  {
   "cell_type": "code",
   "execution_count": 211,
   "metadata": {
    "collapsed": true
   },
   "outputs": [],
   "source": [
    "data$id = NULL\n",
    "data$X = NULL"
   ]
  },
  {
   "cell_type": "code",
   "execution_count": 212,
   "metadata": {
    "collapsed": true
   },
   "outputs": [],
   "source": [
    "data$log_inc = log(data$annual_inc)\n",
    "data$annual_inc = NULL"
   ]
  },
  {
   "cell_type": "code",
   "execution_count": 213,
   "metadata": {
    "collapsed": false
   },
   "outputs": [],
   "source": [
    "nums = sapply(data, is.numeric)\n",
    "data[, nums] = lapply(data[, nums], scale)"
   ]
  },
  {
   "cell_type": "code",
   "execution_count": 214,
   "metadata": {
    "collapsed": false
   },
   "outputs": [],
   "source": [
    "data$bad_status = 0\n",
    "data$bad_status[data$loan_status == c('Default', 'Charged Off', 'Against policy: Fully Paid')] = 1\n",
    "data$bad_status = as.numeric(data$bad_status)"
   ]
  },
  {
   "cell_type": "code",
   "execution_count": 215,
   "metadata": {
    "collapsed": false
   },
   "outputs": [],
   "source": [
    "good_loan = subset(data, loan_status!=c('Default', 'Charged Off', 'Against policy: Charged Off'))\n",
    "bad_loan = subset(data, loan_status==c('Default', 'Charged Off', 'Against policy: Charged Off'))"
   ]
  },
  {
   "cell_type": "markdown",
   "metadata": {},
   "source": [
    "I fixed the numeric columns to be scaled, removed any zero values in income (there were two observations) so that I could log transform and scale, and I group bad loans and good loans into one-hot encoding columns. Now that I have cleaned the dataset and scaled the numeric values, we can start exploring and see what kind of conclusions we can draw from our variables and observations."
   ]
  },
  {
   "cell_type": "code",
   "execution_count": 216,
   "metadata": {
    "collapsed": false
   },
   "outputs": [
    {
     "data": {
      "text/plain": [
       "     loan_amnt.V1       addr_state            term            int_rate.V1    \n",
       " Min.   :-1.6860894   CA     :26156    36 months:124098   Min.   :-1.805135  \n",
       " 1st Qu.:-0.7997457   NY     :14850    60 months: 53373   1st Qu.:-0.740789  \n",
       " Median :-0.2088499   TX     :14256                       Median :-0.057055  \n",
       " Mean   : 0.0000000   FL     :12164                       Mean   : 0.000000  \n",
       " 3rd Qu.: 0.6184043   IL     : 6961                       3rd Qu.: 0.674541  \n",
       " Max.   : 2.3910917   NJ     : 6675                       Max.   : 3.589526  \n",
       "                      (Other):96409                                          \n",
       "   installment.V1    grade         emp_length     home_ownership \n",
       " Min.   :-1.718365   A:29907   10+ years:58438   ANY     :    2  \n",
       " 1st Qu.:-0.720916   B:50693   2 years  :15691   MORTGAGE:88240  \n",
       " Median :-0.221702   C:49220   < 1 year :14251   NONE    :    7  \n",
       " Mean   : 0.000000   D:27780   3 years  :13932   OTHER   :   36  \n",
       " 3rd Qu.: 0.558663   E:14153   1 year   :11599   OWN     :17658  \n",
       " Max.   : 3.976310   F: 4644   5 years  :11147   RENT    :71528  \n",
       "                     G: 1074   (Other)  :52413                   \n",
       "     open_acc.V1     acc_now_delinq.V1              loan_status     pymnt_plan\n",
       " Min.   :-2.166290   Min.   :-0.06599   Current           :120000   n:177469  \n",
       " 1st Qu.:-0.666460   1st Qu.:-0.06599   Fully Paid        : 41764   y:     2  \n",
       " Median :-0.104024   Median :-0.06599   Charged Off       :  9107             \n",
       " Mean   : 0.000000   Mean   : 0.00000   Late (31-120 days):  2336             \n",
       " 3rd Qu.: 0.458412   3rd Qu.:-0.06599   Issued            :  1757             \n",
       " Max.   :13.206968   Max.   :40.60095   In Grace Period   :  1267             \n",
       "                                        (Other)           :  1240             \n",
       "               purpose         application_type    delinq_2yrs.V1  \n",
       " debt_consolidation:104799   INDIVIDUAL:177370   Min.   :-0.36216  \n",
       " credit_card       : 41336   JOINT     :   101   1st Qu.:-0.36216  \n",
       " home_improvement  : 10331                       Median :-0.36216  \n",
       " other             :  8534                       Mean   : 0.00000  \n",
       " major_purchase    :  3477                       3rd Qu.:-0.36216  \n",
       " small_business    :  2115                       Max.   :44.47375  \n",
       " (Other)           :  6879                                         \n",
       "      verification_status     log_inc.V1        bad_status     \n",
       " Not Verified   :53169    Min.   :-5.472168   Min.   :0.00000  \n",
       " Source Verified:65945    1st Qu.:-0.684682   1st Qu.:0.00000  \n",
       " Verified       :58357    Median : 0.012336   Median :0.00000  \n",
       "                          Mean   : 0.000000   Mean   :0.01785  \n",
       "                          3rd Qu.: 0.629170   3rd Qu.:0.00000  \n",
       "                          Max.   : 9.249872   Max.   :1.00000  \n",
       "                                                               "
      ]
     },
     "metadata": {},
     "output_type": "display_data"
    }
   ],
   "source": [
    "summary(data)"
   ]
  },
  {
   "cell_type": "markdown",
   "metadata": {},
   "source": [
    "## 2. Data Exploration and Visualization"
   ]
  },
  {
   "cell_type": "code",
   "execution_count": 249,
   "metadata": {
    "collapsed": false
   },
   "outputs": [
    {
     "data": {},
     "metadata": {},
     "output_type": "display_data"
    },
    {
     "data": {
      "text/html": [
       "<span style=white-space:pre-wrap>'Proportion of data considered bad loans:  1.75 %'</span>"
      ],
      "text/latex": [
       "'Proportion of data considered bad loans:  1.75 \\%'"
      ],
      "text/markdown": [
       "<span style=white-space:pre-wrap>'Proportion of data considered bad loans:  1.75 %'</span>"
      ],
      "text/plain": [
       "[1] \"Proportion of data considered bad loans:  1.75 %\""
      ]
     },
     "metadata": {},
     "output_type": "display_data"
    },
    {
     "data": {
      "text/html": [
       "<span style=white-space:pre-wrap>'Proportion of data considered good loans:  98.25 %'</span>"
      ],
      "text/latex": [
       "'Proportion of data considered good loans:  98.25 \\%'"
      ],
      "text/markdown": [
       "<span style=white-space:pre-wrap>'Proportion of data considered good loans:  98.25 %'</span>"
      ],
      "text/plain": [
       "[1] \"Proportion of data considered good loans:  98.25 %\""
      ]
     },
     "metadata": {},
     "output_type": "display_data"
    },
    {
     "data": {
      "image/png": "[encoded data removed]",
      "text/plain": [
       "plot without title"
      ]
     },
     "metadata": {},
     "output_type": "display_data"
    }
   ],
   "source": [
    "options(repr.plot.width=4, repr.plot.height=3)\n",
    "ggplot(data, aes(x=bad_status))+geom_bar(stat = \"count\", aes(fill=factor(bad_status)), show.legend=F)\n",
    "paste(\"Proportion of data considered bad loans: \", round(nrow(bad_loan)/nrow(data)*100, 2),\"%\")\n",
    "paste(\"Proportion of data considered good loans: \", round(nrow(good_loan)/nrow(data)*100, 2),\"%\")"
   ]
  },
  {
   "cell_type": "markdown",
   "metadata": {},
   "source": [
    "Our labels are unbalanced, which is not much of a surprise. Understanding this will help to determine which metric we will use when applying our predictive analysis to the dataset. We will have to avoid accuracy, because if we assume all loans are good and do not bother with any predictive algorithms, our simple model will still receive an accuracy score of around 98%.\n",
    "\n",
    "Now let's explore our features and how they relate to our labels."
   ]
  },
  {
   "cell_type": "markdown",
   "metadata": {},
   "source": [
    "### Correlation Plot"
   ]
  },
  {
   "cell_type": "code",
   "execution_count": 225,
   "metadata": {
    "collapsed": false
   },
   "outputs": [
    {
     "data": {
      "image/png": "[encoded data removed]",
      "text/plain": [
       "Plot with title \"Correlation Plot\""
      ]
     },
     "metadata": {},
     "output_type": "display_data"
    }
   ],
   "source": [
    "library(corrplot)\n",
    "options(repr.plot.width=6, repr.plot.height=6)\n",
    "corrplot(cor(data[, nums]), method='color', \n",
    "         outline = TRUE, addCoef.col = 'black', \n",
    "         number.digits = 2, number.cex = 0.60, tl.cex = 0.7, cl.cex = 1, title='Correlation Plot', mar=c(0,0,1,0))"
   ]
  },
  {
   "cell_type": "markdown",
   "metadata": {},
   "source": [
    "A few observations from our correlation plot:\n",
    "1. Log Income is slightly positively correlated to the loan amount.\n",
    "2. Installments and loan amount are strongly correlated.\n",
    "\n",
    "This doesn't reveal much about how are features interact with each other, so next we will dive deeper into our data."
   ]
  },
  {
   "cell_type": "markdown",
   "metadata": {},
   "source": [
    "### Purpose of Loan"
   ]
  },
  {
   "cell_type": "code",
   "execution_count": 227,
   "metadata": {
    "collapsed": false
   },
   "outputs": [
    {
     "data": {},
     "metadata": {},
     "output_type": "display_data"
    },
    {
     "data": {
      "image/png": "[encoded data removed]",
      "text/plain": [
       "plot without title"
      ]
     },
     "metadata": {},
     "output_type": "display_data"
    }
   ],
   "source": [
    "options(repr.plot.width=6, repr.plot.height=4)\n",
    "ggplot(data, aes(factor(purpose)))+\n",
    "geom_bar(stat='count', aes(fill=purpose), show.legend=F)+\n",
    "theme(axis.text.x = element_text(angle = 45, hjust = 1))+\n",
    "ggtitle(\"Purpose of Loan\")"
   ]
  },
  {
   "cell_type": "markdown",
   "metadata": {},
   "source": [
    "Let's start with why the loans are being taken out. Looks largely to be for consolidating other loans and paying off credit card debt. The next most common purpose is for home improvement reasons."
   ]
  },
  {
   "cell_type": "markdown",
   "metadata": {},
   "source": [
    "### Delinquent Accounts"
   ]
  },
  {
   "cell_type": "code",
   "execution_count": 245,
   "metadata": {
    "collapsed": false
   },
   "outputs": [
    {
     "data": {},
     "metadata": {},
     "output_type": "display_data"
    },
    {
     "data": {
      "image/png": "[encoded data removed]",
      "text/plain": [
       "plot without title"
      ]
     },
     "metadata": {},
     "output_type": "display_data"
    }
   ],
   "source": [
    "options(repr.plot.width=4, repr.plot.height=4)\n",
    "ggplot(data, aes(factor(bad_status), log(acc_now_delinq)))+\n",
    "geom_violin(trim = TRUE, draw_quantiles = c(0.25, 0.5, 0.75))+\n",
    "ggtitle(\"Delinquent by status\")+\n",
    "ylab(\"Log # of Delinquent Accts\")+\n",
    "xlab(\"Bad Loan Status\")"
   ]
  },
  {
   "cell_type": "markdown",
   "metadata": {},
   "source": [
    "Bad status loans tend to have more delinquent accounts than those loans that are in good status.There are some outliers for the good status loans, but the quartiles demonstrate the number of delinquent accounts is below those with bad statuses."
   ]
  },
  {
   "cell_type": "markdown",
   "metadata": {},
   "source": [
    "### Loan Amount"
   ]
  },
  {
   "cell_type": "code",
   "execution_count": 244,
   "metadata": {
    "collapsed": false
   },
   "outputs": [
    {
     "data": {},
     "metadata": {},
     "output_type": "display_data"
    },
    {
     "data": {
      "image/png": "[encoded data removed]",
      "text/plain": [
       "plot without title"
      ]
     },
     "metadata": {},
     "output_type": "display_data"
    }
   ],
   "source": [
    "ggplot(data, aes(factor(bad_status), loan_amnt))+\n",
    "geom_boxplot(aes())+\n",
    "ggtitle(\"Loan Amount by Loan Status\")"
   ]
  },
  {
   "cell_type": "markdown",
   "metadata": {},
   "source": [
    "Our boxplot and histogram seem to tell us taht the distribution of loan amounts for each loan status are similar, but we will  confirm this when we test the significance in the next section."
   ]
  },
  {
   "cell_type": "markdown",
   "metadata": {},
   "source": [
    "### Logarithmic Annual Income"
   ]
  },
  {
   "cell_type": "markdown",
   "metadata": {},
   "source": [
    "I took the logarithmic scale of the annual_inc to help us get a more normalized distribution (especially since there are a few outliers)."
   ]
  },
  {
   "cell_type": "code",
   "execution_count": 62,
   "metadata": {
    "collapsed": false,
    "scrolled": false
   },
   "outputs": [
    {
     "name": "stdout",
     "output_type": "stream",
     "text": [
      "[1] \"Summary of Bad Loans\"\n"
     ]
    },
    {
     "data": {
      "text/plain": [
       "       V1         \n",
       " Min.   :-3.8634  \n",
       " 1st Qu.:-0.9079  \n",
       " Median :-0.2702  \n",
       " Mean   :-0.2661  \n",
       " 3rd Qu.: 0.3579  \n",
       " Max.   : 4.9937  "
      ]
     },
     "metadata": {},
     "output_type": "display_data"
    },
    {
     "name": "stdout",
     "output_type": "stream",
     "text": [
      "[1] \"Summary of Good Loans\"\n"
     ]
    },
    {
     "data": {
      "text/plain": [
       "       V1           \n",
       " Min.   :-5.472168  \n",
       " 1st Qu.:-0.667907  \n",
       " Median : 0.012336  \n",
       " Mean   : 0.004749  \n",
       " 3rd Qu.: 0.629170  \n",
       " Max.   : 9.249872  "
      ]
     },
     "metadata": {},
     "output_type": "display_data"
    },
    {
     "name": "stderr",
     "output_type": "stream",
     "text": [
      "`stat_bin()` using `bins = 30`. Pick better value with `binwidth`.\n",
      "`stat_bin()` using `bins = 30`. Pick better value with `binwidth`.\n"
     ]
    },
    {
     "data": {
      "image/png": "[encoded data removed]",
      "text/plain": [
       "plot without title"
      ]
     },
     "metadata": {},
     "output_type": "display_data"
    }
   ],
   "source": [
    "print(\"Summary of Bad Loans\")\n",
    "summary(bad_loan$log_inc)\n",
    "print(\"Summary of Good Loans\")\n",
    "summary(good_loan$log_inc)\n",
    "a = ggplot(bad_loan, aes(log_inc)) + \n",
    "geom_histogram(fill = \"red\") +\n",
    "ggtitle(\"Bad Loans\")\n",
    "b = ggplot(good_loan, aes(log_inc)) + \n",
    "geom_histogram(fill = \"blue\")+\n",
    "ggtitle(\"Good Loans\")\n",
    "grid.arrange(a, b, ncol=2)"
   ]
  },
  {
   "cell_type": "code",
   "execution_count": 64,
   "metadata": {
    "collapsed": false
   },
   "outputs": [
    {
     "data": {},
     "metadata": {},
     "output_type": "display_data"
    },
    {
     "data": {
      "image/png": "[encoded data removed]",
      "text/plain": [
       "plot without title"
      ]
     },
     "metadata": {},
     "output_type": "display_data"
    }
   ],
   "source": [
    "ggplot(data, aes(factor(bad_status), log_inc))+\n",
    "geom_boxplot()+\n",
    "theme(axis.text.x = element_text(angle = 45, hjust = 1))+\n",
    "ggtitle(\"Log Income by Loan Status\")+\n",
    "ylim(-2, 2)"
   ]
  },
  {
   "cell_type": "markdown",
   "metadata": {},
   "source": [
    "Our log annual income tends to be lower for bad loans when looking at our box plot and summary statistics."
   ]
  },
  {
   "cell_type": "markdown",
   "metadata": {},
   "source": [
    "### Interest Rate"
   ]
  },
  {
   "cell_type": "code",
   "execution_count": 65,
   "metadata": {
    "collapsed": false
   },
   "outputs": [
    {
     "data": {},
     "metadata": {},
     "output_type": "display_data"
    },
    {
     "data": {
      "image/png": "[encoded data removed]",
      "text/plain": [
       "plot without title"
      ]
     },
     "metadata": {},
     "output_type": "display_data"
    }
   ],
   "source": [
    "ggplot(data, aes(int_rate, fill = factor(bad_status))) + \n",
    "geom_density(alpha = 0.5) +\n",
    "ylab(\"Count\") +\n",
    "xlab(\"Loan Interest\") +\n",
    "guides(fill=guide_legend(title=\"Loan Status\")) +\n",
    "ggtitle(\"Loan Interest by Status\") +\n",
    "theme(plot.title = element_text(hjust = 0.5))"
   ]
  },
  {
   "cell_type": "markdown",
   "metadata": {},
   "source": [
    "Our density histogram seems to demonstrate that the interest rate tends to be higher for bad loans. This is further demonstrated with our boxplot."
   ]
  },
  {
   "cell_type": "code",
   "execution_count": 66,
   "metadata": {
    "collapsed": false
   },
   "outputs": [
    {
     "data": {},
     "metadata": {},
     "output_type": "display_data"
    },
    {
     "data": {
      "image/png": "[encoded data removed]",
      "text/plain": [
       "plot without title"
      ]
     },
     "metadata": {},
     "output_type": "display_data"
    }
   ],
   "source": [
    "ggplot(data, aes(factor(bad_status), int_rate))+\n",
    "geom_boxplot()+\n",
    "theme(axis.text.x = element_text(angle = 45, hjust = 1))+\n",
    "ggtitle(\"Interest Rate by Loan Status\")+\n",
    "ylim(-2, 2)"
   ]
  },
  {
   "cell_type": "markdown",
   "metadata": {},
   "source": [
    "## 3. Hypothesis Testing"
   ]
  },
  {
   "cell_type": "markdown",
   "metadata": {},
   "source": [
    "### Loan Amount"
   ]
  },
  {
   "cell_type": "code",
   "execution_count": 67,
   "metadata": {
    "collapsed": false
   },
   "outputs": [],
   "source": [
    "plot.hist <- function(a, maxs, mins, cols = 'difference of means', nbins = 80, p = 0.05) {\n",
    "  breaks = seq(maxs, mins, length.out = (nbins + 1))\n",
    "  hist(a, breaks = breaks, main = paste('Histogram of', cols), xlab = cols)\n",
    "  abline(v = mean(a), lwd = 4, col = 'red')\n",
    "  abline(v = 0, lwd = 4, col = 'blue')\n",
    "  abline(v = quantile(a, probs = p/2), lty = 3, col = 'red', lwd = 3)  \n",
    "  abline(v = quantile(a, probs = (1 - p/2)), lty = 3, col = 'red', lwd = 3)\n",
    "}\n",
    "plot.diff <- function(a, cols = 'difference of means', nbins = 80, p = 0.05){\n",
    "  maxs = max(a)\n",
    "  mins = min(a)\n",
    "  plot.hist(a, maxs, mins, cols = cols[1])\n",
    "}\n",
    "options(repr.plot.width=6, repr.plot.height=4)"
   ]
  },
  {
   "cell_type": "code",
   "execution_count": 68,
   "metadata": {
    "collapsed": false
   },
   "outputs": [],
   "source": [
    "two.boot.mean = two.boot(bad_loan$emp_length, good_loan$emp_length, mean, R = 1000)"
   ]
  },
  {
   "cell_type": "code",
   "execution_count": 69,
   "metadata": {
    "collapsed": false
   },
   "outputs": [
    {
     "data": {
      "image/png": "[encoded data removed]",
      "text/plain": [
       "Plot with title \"Histogram of difference of means\""
      ]
     },
     "metadata": {},
     "output_type": "display_data"
    }
   ],
   "source": [
    "plot.diff(two.boot.mean$t)"
   ]
  },
  {
   "cell_type": "markdown",
   "metadata": {},
   "source": [
    "Our bootstrap sampling hypothesis test tells us that we **can** reject the null hypothesis that our two datasets are significantly different."
   ]
  },
  {
   "cell_type": "markdown",
   "metadata": {},
   "source": [
    "### Length of Employment"
   ]
  },
  {
   "cell_type": "code",
   "execution_count": 70,
   "metadata": {
    "collapsed": false
   },
   "outputs": [
    {
     "name": "stderr",
     "output_type": "stream",
     "text": [
      "Loading required package: plyr\n"
     ]
    }
   ],
   "source": [
    "#detach(\"package:dplyr\", unload=TRUE)\n",
    "require(plyr)"
   ]
  },
  {
   "cell_type": "code",
   "execution_count": 71,
   "metadata": {
    "collapsed": false
   },
   "outputs": [],
   "source": [
    "conv_to_prob = function(data, var){\n",
    "    table = count(data, vars = var)\n",
    "    return(table)\n",
    "    }"
   ]
  },
  {
   "cell_type": "code",
   "execution_count": 72,
   "metadata": {
    "collapsed": false
   },
   "outputs": [],
   "source": [
    "chi_table = function(data, var){\n",
    "    table = conv_to_prob(data, var)\n",
    "    row.names(table) = table[,1]\n",
    "    n = nrow(table)\n",
    "    table$expected = sum(table$freq) / (n)\n",
    "    table$expected_p = table$expected / sum(table$freq)\n",
    "    table$diff = table$freq - table$expected\n",
    "    table$sq_diff = table$diff^2\n",
    "    table$diff_expec = table$sq_diff/table$expected\n",
    "    table[,1] = NULL\n",
    "    return(table)\n",
    "}"
   ]
  },
  {
   "cell_type": "code",
   "execution_count": 73,
   "metadata": {
    "collapsed": false
   },
   "outputs": [
    {
     "data": {
      "text/plain": [
       "\n",
       "\tChi-squared test for given probabilities\n",
       "\n",
       "data:  good_emp$freq\n",
       "X-squared = 144310, df = 11, p-value < 2.2e-16\n"
      ]
     },
     "metadata": {},
     "output_type": "display_data"
    }
   ],
   "source": [
    "good_emp = chi_table(good_loan, \"emp_length\")\n",
    "chisq.test(good_emp$freq, p = good_emp$expected_p, correct = FALSE)"
   ]
  },
  {
   "cell_type": "code",
   "execution_count": 74,
   "metadata": {
    "collapsed": false
   },
   "outputs": [
    {
     "data": {
      "text/plain": [
       "\n",
       "\tChi-squared test for given probabilities\n",
       "\n",
       "data:  bad_emp$freq\n",
       "X-squared = 1663.1, df = 11, p-value < 2.2e-16\n"
      ]
     },
     "metadata": {},
     "output_type": "display_data"
    }
   ],
   "source": [
    "bad_emp = chi_table(bad_loan, \"emp_length\")\n",
    "chisq.test(bad_emp$freq, p = bad_emp$expected_p, correct = FALSE)"
   ]
  },
  {
   "cell_type": "markdown",
   "metadata": {},
   "source": [
    "### Chi-square test on home ownership"
   ]
  },
  {
   "cell_type": "code",
   "execution_count": 80,
   "metadata": {
    "collapsed": false
   },
   "outputs": [
    {
     "data": {
      "text/plain": [
       "\n",
       "\tChi-squared test for given probabilities\n",
       "\n",
       "data:  bad_hom$freq\n",
       "X-squared = 2093.6, df = 3, p-value < 2.2e-16\n"
      ]
     },
     "metadata": {},
     "output_type": "display_data"
    }
   ],
   "source": [
    "bad_hom = chi_table(bad_loan, \"home_ownership\")\n",
    "chisq.test(bad_hom$freq, p = bad_hom$expected_p, correct = FALSE)"
   ]
  },
  {
   "cell_type": "code",
   "execution_count": 81,
   "metadata": {
    "collapsed": false
   },
   "outputs": [
    {
     "data": {
      "text/plain": [
       "\n",
       "\tChi-squared test for given probabilities\n",
       "\n",
       "data:  good_hom$freq\n",
       "X-squared = 264790, df = 5, p-value < 2.2e-16\n"
      ]
     },
     "metadata": {},
     "output_type": "display_data"
    }
   ],
   "source": [
    "good_hom = chi_table(good_loan, \"home_ownership\")\n",
    "chisq.test(good_hom$freq, p = good_hom$expected_p, correct = FALSE)"
   ]
  },
  {
   "cell_type": "markdown",
   "metadata": {},
   "source": [
    "The null hypotheses for both the home ownership status and employment status can be rejected. The features seem to carry enough significance for us when talking about loan status."
   ]
  },
  {
   "cell_type": "markdown",
   "metadata": {},
   "source": [
    "#### Chi-square test on purpose of loan"
   ]
  },
  {
   "cell_type": "code",
   "execution_count": 82,
   "metadata": {
    "collapsed": false
   },
   "outputs": [
    {
     "data": {
      "text/plain": [
       "\n",
       "\tChi-squared test for given probabilities\n",
       "\n",
       "data:  bad_purp$freq\n",
       "X-squared = 14835, df = 13, p-value < 2.2e-16\n"
      ]
     },
     "metadata": {},
     "output_type": "display_data"
    }
   ],
   "source": [
    "bad_purp = chi_table(bad_loan, \"purpose\")\n",
    "chisq.test(bad_purp$freq, p = bad_purp$expected_p, correct = FALSE)"
   ]
  },
  {
   "cell_type": "code",
   "execution_count": 83,
   "metadata": {
    "collapsed": false
   },
   "outputs": [
    {
     "data": {
      "text/plain": [
       "\n",
       "\tChi-squared test for given probabilities\n",
       "\n",
       "data:  good_purp$freq\n",
       "X-squared = 825310, df = 13, p-value < 2.2e-16\n"
      ]
     },
     "metadata": {},
     "output_type": "display_data"
    }
   ],
   "source": [
    "good_purp = chi_table(good_loan, \"purpose\")\n",
    "chisq.test(good_purp$freq, p = good_purp$expected_p, correct = FALSE)"
   ]
  },
  {
   "cell_type": "markdown",
   "metadata": {},
   "source": [
    "Looking at the results, we can see that there is significant differences between the good and bad loans according to each of the three categorial variables explored. A significant reason for this is the large amount of observations the dataset has. This allows us to get a larger view of how our features are distributed according to the two target variables of \"good\" vs. \"bad\" loans."
   ]
  },
  {
   "cell_type": "markdown",
   "metadata": {},
   "source": [
    "### Logarithmic Annual Income"
   ]
  },
  {
   "cell_type": "code",
   "execution_count": 85,
   "metadata": {
    "collapsed": false
   },
   "outputs": [
    {
     "data": {
      "text/plain": [
       "                       Df Sum Sq Mean Sq F value Pr(>F)    \n",
       "factor(bad_status)      1    228   227.8   228.1 <2e-16 ***\n",
       "Residuals          177469 177242     1.0                   \n",
       "---\n",
       "Signif. codes:  0 '***' 0.001 '**' 0.01 '*' 0.05 '.' 0.1 ' ' 1"
      ]
     },
     "metadata": {},
     "output_type": "display_data"
    },
    {
     "name": "stdout",
     "output_type": "stream",
     "text": [
      "Call:\n",
      "   aov(formula = log_inc ~ factor(bad_status), data = data)\n",
      "\n",
      "Terms:\n",
      "                factor(bad_status) Residuals\n",
      "Sum of Squares              227.82 177242.18\n",
      "Deg. of Freedom                  1    177469\n",
      "\n",
      "Residual standard error: 0.9993608\n",
      "Estimated effects may be unbalanced\n"
     ]
    }
   ],
   "source": [
    "df_aov = aov(log_inc ~ factor(bad_status), data = data)\n",
    "summary(df_aov)\n",
    "print(df_aov)"
   ]
  },
  {
   "cell_type": "code",
   "execution_count": 86,
   "metadata": {
    "collapsed": true
   },
   "outputs": [],
   "source": [
    "comp.like = function(p, x){\n",
    "    l = rep(0, length = length(p))\n",
    "    sigmaSqr = sd(x)^2\n",
    "    xBar = mean(x)\n",
    "    cat(' Mean =', xBar, 'Standard deviation =', sqrt(sigmaSqr), '\\n')\n",
    "    n = length(x)\n",
    "#    l = sapply(p, function(u) dnorm(u, mean = xBar, sd = sigmaSqr))\n",
    "    l = sapply(p, function(u) exp(- n* (xBar - u)^2 / (2 * sigmaSqr)))\n",
    "    l / sum(l) # Normalize and return\n",
    "}"
   ]
  },
  {
   "cell_type": "code",
   "execution_count": 87,
   "metadata": {
    "collapsed": true
   },
   "outputs": [],
   "source": [
    "posterior = function(prior, like){\n",
    "    post = prior * like  # Compute the product of the probabilities\n",
    "    post / sum(post) # Normalize and return\n",
    "}\n",
    "\n",
    "plot.post = function(prior, like, post, x){\n",
    "    maxy = max(c(prior, like, post))\n",
    "    plot(x, like, , lty = 1, ylim = c(0.0, maxy), \n",
    "         ylab = 'Density', xlab = 'Parameter value',\n",
    "         main = 'Density of prior, likelihood, posterior',\n",
    "         lwd = 2, col = 'green')\n",
    "    lines(x, prior, lty = 2, lwd = 2, col = 'blue')    \n",
    "    lines(x, post, lty = 1, lwd = 2, col = 'red')\n",
    "    legend('topright', c('likelihood', 'prior', 'posterior'), \n",
    "    lty=1, col=c('green', 'blue', 'red'), bty='n', cex=1.0)\n",
    "    \n",
    "    cat(' Maximum of prior density =', round(x[which.max(prior)], 3), '\\n',\n",
    "        'Maximum likelihood =', round(x[which.max(like)], 3), '\\n',\n",
    "         'MAP =', round(x[which.max(post)], 3))\n",
    "}"
   ]
  },
  {
   "cell_type": "code",
   "execution_count": 88,
   "metadata": {
    "collapsed": true
   },
   "outputs": [],
   "source": [
    "plot.ci = function(p, post, nSamps, qs){\n",
    "    ## This function computes a credible interval using an assumption\n",
    "    ## of symetry in the bulk of the distribution to keep the \n",
    "    ## calculation simple. \n",
    "    ## Compute a large sample by resampling with replacement\n",
    "    samps = sample(p, size = nSamps, replace = TRUE, prob = post)\n",
    "    ci = quantile(samps, probs = qs) # compute the quantiles\n",
    "    \n",
    "    ## Plot the density with the credible interval\n",
    "    interval = qs[2] - qs[1]\n",
    "    title = paste('Posterior density with', interval, 'credible interval')\n",
    "    plot(p, post, , typ = 'l', ylab = 'Density', xlab = 'Parameter value',\n",
    "         main = title, lwd = 2, col = 'blue')\n",
    "    abline(v = ci[1], col = 'red', lty = 2, lwd = 2)\n",
    "    abline(v = ci[2], col = 'red', lty = 2, lwd = 2)\n",
    "    cat('The', interval, 'Credible interval is', \n",
    "        round(ci[1], 2), 'to', round(ci[2], 2))\n",
    "    }"
   ]
  },
  {
   "cell_type": "code",
   "execution_count": 89,
   "metadata": {
    "collapsed": false
   },
   "outputs": [],
   "source": [
    "N = 100\n",
    "p = seq(min(data$log_inc), max(data$log_inc), length=N)\n",
    "bad_loan$log_inc = sort(bad_loan$log_inc, decreasing = FALSE)\n",
    "good_loan$log_inc = sort(good_loan$log_inc, decreasing = FALSE)\n",
    "mean_income = round(mean(data$log_inc))\n",
    "pp = dnorm(p, mean = mean_income, sd = sd(data$log_inc)) ## start with a fairly broad prior\n",
    "pp = pp / sum(pp)"
   ]
  },
  {
   "cell_type": "code",
   "execution_count": 90,
   "metadata": {
    "collapsed": false
   },
   "outputs": [
    {
     "name": "stdout",
     "output_type": "stream",
     "text": [
      " Mean = -0.2660901 Standard deviation = 0.966504 \n",
      " Mean = 0.004749237 Standard deviation = 0.9999474 \n",
      "The 0.95 Credible interval is -0.27 to -0.27"
     ]
    },
    {
     "data": {
      "image/png": "[encoded data removed]",
      "text/plain": [
       "Plot with title \"Posterior density with 0.95 credible interval\""
      ]
     },
     "metadata": {},
     "output_type": "display_data"
    },
    {
     "name": "stdout",
     "output_type": "stream",
     "text": [
      "The 0.95 Credible interval is 0.03 to 0.03"
     ]
    },
    {
     "data": {
      "image/png": "[encoded data removed]",
      "text/plain": [
       "Plot with title \"Posterior density with 0.95 credible interval\""
      ]
     },
     "metadata": {},
     "output_type": "display_data"
    }
   ],
   "source": [
    "like.bad = comp.like(p, bad_loan$log_inc)\n",
    "post.bad = posterior(pp, like.bad)\n",
    "like.good = comp.like(p, good_loan$log_inc)\n",
    "post.good = posterior(pp, like.good)\n",
    "nSamps = 100\n",
    "qs = c(0.025, 0.975)\n",
    "plot.ci(p, post.bad, nSamps, qs)\n",
    "plot.ci(p, post.good, nSamps, qs)"
   ]
  },
  {
   "cell_type": "markdown",
   "metadata": {
    "collapsed": true
   },
   "source": [
    "The Baysian model of the log income tells us to reject the null hypothesis that the good and bad loans carry similar distributions according to income. Our visualization before we conducted our hypothesis test reveals that the loan amount of bad loans tends to be smaller than loans in good standing."
   ]
  },
  {
   "cell_type": "markdown",
   "metadata": {},
   "source": [
    "### Loan status by state"
   ]
  },
  {
   "cell_type": "markdown",
   "metadata": {},
   "source": [
    "## 4. Predictive Analysis"
   ]
  },
  {
   "cell_type": "markdown",
   "metadata": {},
   "source": [
    "My predictive model will be a Naive Bayes classifier and will be measured by an F1 score, which takes both the precision and recall of my confusion matrix. I will compare a base model, which will be the classifier using all features, with a step-wise AIC optimized set a features. First, I will separate the data into training and test sets."
   ]
  },
  {
   "cell_type": "code",
   "execution_count": 92,
   "metadata": {
    "collapsed": false
   },
   "outputs": [],
   "source": [
    "set.seed(1987)\n",
    "col.rmv = names(data) %in% c('loan_status', 'bad_loan', 'good_loan')\n",
    "temp = data[!col.rmv]\n",
    "smp_size = floor(0.75 * nrow(temp))\n",
    "train_ind = sample(seq_len(nrow(temp)), size = smp_size)\n",
    "\n",
    "train = temp[train_ind, ]\n",
    "test = temp[-train_ind, ]\n",
    "test_x = subset(test, select=-bad_status)\n",
    "test_y = factor(test$bad_status)"
   ]
  },
  {
   "cell_type": "code",
   "execution_count": 93,
   "metadata": {
    "collapsed": true
   },
   "outputs": [],
   "source": [
    "model = glm(bad_status ~., data=train, family='binomial')"
   ]
  },
  {
   "cell_type": "code",
   "execution_count": 94,
   "metadata": {
    "collapsed": false,
    "scrolled": false
   },
   "outputs": [
    {
     "data": {
      "text/plain": [
       "\n",
       "Call:\n",
       "glm(formula = bad_status ~ ., family = \"binomial\", data = train)\n",
       "\n",
       "Deviance Residuals: \n",
       "    Min       1Q   Median       3Q      Max  \n",
       "-1.1209  -0.2104  -0.1616  -0.1204   3.3982  \n",
       "\n",
       "Coefficients:\n",
       "                                     Estimate Std. Error z value Pr(>|z|)    \n",
       "(Intercept)                        -1.545e+01  1.696e+03  -0.009 0.992730    \n",
       "loan_amnt                           5.875e-02  1.536e-01   0.382 0.702189    \n",
       "addr_stateAL                        2.185e-01  4.483e-01   0.487 0.625959    \n",
       "addr_stateAR                        4.719e-02  4.789e-01   0.099 0.921492    \n",
       "addr_stateAZ                       -1.556e-01  4.401e-01  -0.354 0.723708    \n",
       "addr_stateCA                        1.168e-01  4.179e-01   0.280 0.779807    \n",
       "addr_stateCO                        8.292e-02  4.380e-01   0.189 0.849851    \n",
       "addr_stateCT                        1.246e-01  4.463e-01   0.279 0.780117    \n",
       "addr_stateDC                       -1.834e+00  1.086e+00  -1.690 0.091116 .  \n",
       "addr_stateDE                       -6.965e-02  5.856e-01  -0.119 0.905324    \n",
       "addr_stateFL                       -1.789e-02  4.224e-01  -0.042 0.966219    \n",
       "addr_stateGA                        1.005e-01  4.298e-01   0.234 0.815128    \n",
       "addr_stateHI                        1.687e-01  4.911e-01   0.344 0.731194    \n",
       "addr_stateID                        2.049e+01  2.400e+03   0.009 0.993188    \n",
       "addr_stateIL                        2.427e-02  4.287e-01   0.057 0.954855    \n",
       "addr_stateIN                       -5.105e-01  4.696e-01  -1.087 0.276943    \n",
       "addr_stateKS                       -5.124e-02  4.726e-01  -0.108 0.913662    \n",
       "addr_stateKY                        1.497e-01  4.638e-01   0.323 0.746919    \n",
       "addr_stateLA                       -5.059e-02  4.601e-01  -0.110 0.912436    \n",
       "addr_stateMA                        2.865e-02  4.397e-01   0.065 0.948057    \n",
       "addr_stateMD                       -5.745e-02  4.397e-01  -0.131 0.896045    \n",
       "addr_stateME                       -1.222e+01  2.561e+02  -0.048 0.961949    \n",
       "addr_stateMI                        9.013e-02  4.341e-01   0.208 0.835529    \n",
       "addr_stateMN                       -5.694e-02  4.453e-01  -0.128 0.898263    \n",
       "addr_stateMO                        1.840e-01  4.422e-01   0.416 0.677367    \n",
       "addr_stateMS                       -1.499e+00  8.217e-01  -1.824 0.068208 .  \n",
       "addr_stateMT                       -3.036e-01  6.134e-01  -0.495 0.620653    \n",
       "addr_stateNC                        1.664e-02  4.329e-01   0.038 0.969334    \n",
       "addr_stateND                       -1.224e+01  2.554e+02  -0.048 0.961761    \n",
       "addr_stateNE                       -1.217e+01  1.663e+02  -0.073 0.941662    \n",
       "addr_stateNH                       -1.987e-02  5.348e-01  -0.037 0.970358    \n",
       "addr_stateNJ                        1.553e-01  4.277e-01   0.363 0.716441    \n",
       "addr_stateNM                        5.642e-02  5.012e-01   0.113 0.910364    \n",
       "addr_stateNV                       -4.594e-03  4.497e-01  -0.010 0.991850    \n",
       "addr_stateNY                        1.113e-01  4.204e-01   0.265 0.791230    \n",
       "addr_stateOH                       -5.852e-02  4.321e-01  -0.135 0.892267    \n",
       "addr_stateOK                        1.340e-02  4.700e-01   0.029 0.977249    \n",
       "addr_stateOR                        9.009e-02  4.520e-01   0.199 0.842028    \n",
       "addr_statePA                        3.334e-01  4.262e-01   0.782 0.434040    \n",
       "addr_stateRI                       -8.652e-02  5.351e-01  -0.162 0.871546    \n",
       "addr_stateSC                       -6.680e-01  4.896e-01  -1.364 0.172503    \n",
       "addr_stateSD                       -6.853e-01  7.152e-01  -0.958 0.337993    \n",
       "addr_stateTN                        1.118e-01  4.489e-01   0.249 0.803234    \n",
       "addr_stateTX                       -1.415e-01  4.227e-01  -0.335 0.737736    \n",
       "addr_stateUT                        2.908e-02  4.824e-01   0.060 0.951937    \n",
       "addr_stateVA                        6.141e-02  4.318e-01   0.142 0.886901    \n",
       "addr_stateVT                       -1.546e+00  1.086e+00  -1.424 0.154514    \n",
       "addr_stateWA                       -1.297e-01  4.401e-01  -0.295 0.768258    \n",
       "addr_stateWI                        6.008e-02  4.530e-01   0.133 0.894489    \n",
       "addr_stateWV                       -1.085e-01  5.242e-01  -0.207 0.836076    \n",
       "addr_stateWY                       -1.027e+00  8.230e-01  -1.248 0.212053    \n",
       "term 60 months                     -1.856e-01  1.168e-01  -1.588 0.112254    \n",
       "int_rate                            1.468e+00  7.274e-02  20.181  < 2e-16 ***\n",
       "installment                         5.558e-03  1.388e-01   0.040 0.968068    \n",
       "gradeB                             -5.234e-01  1.172e-01  -4.468 7.91e-06 ***\n",
       "gradeC                             -1.180e+00  1.474e-01  -8.005 1.19e-15 ***\n",
       "gradeD                             -1.899e+00  1.903e-01  -9.980  < 2e-16 ***\n",
       "gradeE                             -2.622e+00  2.351e-01 -11.153  < 2e-16 ***\n",
       "gradeF                             -3.649e+00  2.956e-01 -12.347  < 2e-16 ***\n",
       "gradeG                             -3.886e+00  3.506e-01 -11.083  < 2e-16 ***\n",
       "emp_length1 year                   -1.797e-01  1.049e-01  -1.713 0.086668 .  \n",
       "emp_length10+ years                -3.116e-01  7.991e-02  -3.899 9.66e-05 ***\n",
       "emp_length2 years                  -9.544e-02  9.556e-02  -0.999 0.317934    \n",
       "emp_length3 years                  -2.519e-01  1.027e-01  -2.452 0.014208 *  \n",
       "emp_length4 years                  -2.885e-01  1.121e-01  -2.574 0.010048 *  \n",
       "emp_length5 years                  -1.965e-01  1.069e-01  -1.837 0.066142 .  \n",
       "emp_length6 years                   1.064e-01  1.058e-01   1.006 0.314584    \n",
       "emp_length7 years                  -1.681e-01  1.131e-01  -1.487 0.137041    \n",
       "emp_length8 years                  -2.134e-01  1.170e-01  -1.824 0.068129 .  \n",
       "emp_length9 years                  -1.570e-01  1.260e-01  -1.246 0.212766    \n",
       "emp_lengthn/a                      -2.145e-01  1.164e-01  -1.843 0.065389 .  \n",
       "home_ownershipMORTGAGE              1.238e+01  1.696e+03   0.007 0.994176    \n",
       "home_ownershipNONE                  5.406e-02  1.998e+03   0.000 0.999978    \n",
       "home_ownershipOTHER                 1.397e+01  1.696e+03   0.008 0.993429    \n",
       "home_ownershipOWN                   1.229e+01  1.696e+03   0.007 0.994217    \n",
       "home_ownershipRENT                  1.245e+01  1.696e+03   0.007 0.994143    \n",
       "annual_inc                         -2.729e-02  7.218e-02  -0.378 0.705366    \n",
       "open_acc                           -3.695e-02  2.305e-02  -1.603 0.108963    \n",
       "acc_now_delinq                      7.712e-03  2.151e-02   0.359 0.719911    \n",
       "pymnt_plany                        -1.288e+01  1.693e+03  -0.008 0.993926    \n",
       "purposecredit_card                  6.399e-02  2.449e-01   0.261 0.793844    \n",
       "purposedebt_consolidation           1.899e-01  2.411e-01   0.787 0.431030    \n",
       "purposeeducational                  2.245e+00  4.774e-01   4.703 2.56e-06 ***\n",
       "purposehome_improvement             2.152e-01  2.578e-01   0.835 0.403839    \n",
       "purposehouse                       -5.408e-02  3.899e-01  -0.139 0.889688    \n",
       "purposemajor_purchase               1.435e-01  2.867e-01   0.501 0.616655    \n",
       "purposemedical                      5.459e-01  2.930e-01   1.863 0.062438 .  \n",
       "purposemoving                       2.224e-01  3.247e-01   0.685 0.493292    \n",
       "purposeother                        2.589e-01  2.533e-01   1.022 0.306689    \n",
       "purposerenewable_energy            -6.523e-01  1.037e+00  -0.629 0.529413    \n",
       "purposesmall_business               9.605e-01  2.674e-01   3.592 0.000328 ***\n",
       "purposevacation                     6.501e-02  3.702e-01   0.176 0.860603    \n",
       "purposewedding                      1.045e+00  3.347e-01   3.123 0.001792 ** \n",
       "application_typeJOINT              -1.267e+01  2.613e+02  -0.048 0.961320    \n",
       "delinq_2yrs                        -9.892e-02  2.658e-02  -3.721 0.000199 ***\n",
       "verification_statusSource Verified -2.175e-01  5.726e-02  -3.799 0.000145 ***\n",
       "verification_statusVerified        -4.218e-02  5.694e-02  -0.741 0.458821    \n",
       "log_inc                            -1.765e-01  5.166e-02  -3.417 0.000632 ***\n",
       "---\n",
       "Signif. codes:  0 '***' 0.001 '**' 0.01 '*' 0.05 '.' 0.1 ' ' 1\n",
       "\n",
       "(Dispersion parameter for binomial family taken to be 1)\n",
       "\n",
       "    Null deviance: 23518  on 133102  degrees of freedom\n",
       "Residual deviance: 22100  on 133005  degrees of freedom\n",
       "AIC: 22296\n",
       "\n",
       "Number of Fisher Scoring iterations: 15\n"
      ]
     },
     "metadata": {},
     "output_type": "display_data"
    }
   ],
   "source": [
    "summary(model)"
   ]
  },
  {
   "cell_type": "code",
   "execution_count": 95,
   "metadata": {
    "collapsed": false,
    "scrolled": false
   },
   "outputs": [
    {
     "name": "stdout",
     "output_type": "stream",
     "text": [
      "Start:  AIC=22296.34\n",
      "bad_status ~ loan_amnt + addr_state + term + int_rate + installment + \n",
      "    grade + emp_length + home_ownership + annual_inc + open_acc + \n",
      "    acc_now_delinq + pymnt_plan + purpose + application_type + \n",
      "    delinq_2yrs + verification_status + log_inc\n",
      "\n",
      "                      Df Deviance   AIC\n",
      "- addr_state          49    22187 22285\n",
      "- installment          1    22100 22294\n",
      "- pymnt_plan           1    22100 22294\n",
      "- acc_now_delinq       1    22101 22295\n",
      "- loan_amnt            1    22101 22295\n",
      "- annual_inc           1    22101 22295\n",
      "- home_ownership       5    22110 22296\n",
      "<none>                      22100 22296\n",
      "- term                 1    22103 22297\n",
      "- open_acc             1    22103 22297\n",
      "- application_type     1    22104 22298\n",
      "- log_inc              1    22111 22305\n",
      "- emp_length          11    22133 22307\n",
      "- delinq_2yrs          1    22116 22310\n",
      "- verification_status  2    22119 22311\n",
      "- purpose             13    22173 22343\n",
      "- grade                6    22306 22490\n",
      "- int_rate             1    22516 22710\n",
      "\n",
      "Step:  AIC=22285.29\n",
      "bad_status ~ loan_amnt + term + int_rate + installment + grade + \n",
      "    emp_length + home_ownership + annual_inc + open_acc + acc_now_delinq + \n",
      "    pymnt_plan + purpose + application_type + delinq_2yrs + verification_status + \n",
      "    log_inc\n",
      "\n",
      "                      Df Deviance   AIC\n",
      "- installment          1    22187 22283\n",
      "- pymnt_plan           1    22187 22283\n",
      "- annual_inc           1    22187 22283\n",
      "- acc_now_delinq       1    22187 22283\n",
      "- loan_amnt            1    22188 22284\n",
      "<none>                      22187 22285\n",
      "- open_acc             1    22190 22286\n",
      "- term                 1    22190 22286\n",
      "- application_type     1    22191 22287\n",
      "- home_ownership       5    22200 22288\n",
      "- log_inc              1    22198 22294\n",
      "- emp_length          11    22219 22295\n",
      "- delinq_2yrs          1    22203 22299\n",
      "- verification_status  2    22206 22300\n",
      "- purpose             13    22261 22333\n",
      "- grade                6    22396 22482\n",
      "- int_rate             1    22605 22701\n",
      "\n",
      "Step:  AIC=22283.29\n",
      "bad_status ~ loan_amnt + term + int_rate + grade + emp_length + \n",
      "    home_ownership + annual_inc + open_acc + acc_now_delinq + \n",
      "    pymnt_plan + purpose + application_type + delinq_2yrs + verification_status + \n",
      "    log_inc\n",
      "\n",
      "                      Df Deviance   AIC\n",
      "- pymnt_plan           1    22187 22281\n",
      "- annual_inc           1    22187 22281\n",
      "- acc_now_delinq       1    22187 22281\n",
      "<none>                      22187 22283\n",
      "- open_acc             1    22190 22284\n",
      "- application_type     1    22191 22285\n",
      "- loan_amnt            1    22192 22286\n",
      "- home_ownership       5    22200 22286\n",
      "- log_inc              1    22198 22292\n",
      "- term                 1    22199 22293\n",
      "- emp_length          11    22219 22293\n",
      "- delinq_2yrs          1    22203 22297\n",
      "- verification_status  2    22206 22298\n",
      "- purpose             13    22261 22331\n",
      "- grade                6    22396 22480\n",
      "- int_rate             1    22631 22725\n",
      "\n",
      "Step:  AIC=22281.39\n",
      "bad_status ~ loan_amnt + term + int_rate + grade + emp_length + \n",
      "    home_ownership + annual_inc + open_acc + acc_now_delinq + \n",
      "    purpose + application_type + delinq_2yrs + verification_status + \n",
      "    log_inc\n",
      "\n",
      "                      Df Deviance   AIC\n",
      "- annual_inc           1    22188 22280\n",
      "- acc_now_delinq       1    22188 22280\n",
      "<none>                      22187 22281\n",
      "- open_acc             1    22190 22282\n",
      "- application_type     1    22191 22283\n",
      "- loan_amnt            1    22192 22284\n",
      "- home_ownership       5    22200 22284\n",
      "- log_inc              1    22198 22290\n",
      "- term                 1    22199 22291\n",
      "- emp_length          11    22220 22292\n",
      "- delinq_2yrs          1    22203 22295\n",
      "- verification_status  2    22206 22296\n",
      "- purpose             13    22261 22329\n",
      "- grade                6    22396 22478\n",
      "- int_rate             1    22631 22723\n",
      "\n",
      "Step:  AIC=22279.48\n",
      "bad_status ~ loan_amnt + term + int_rate + grade + emp_length + \n",
      "    home_ownership + open_acc + acc_now_delinq + purpose + application_type + \n",
      "    delinq_2yrs + verification_status + log_inc\n",
      "\n",
      "                      Df Deviance   AIC\n",
      "- acc_now_delinq       1    22188 22278\n",
      "<none>                      22188 22280\n",
      "- open_acc             1    22190 22280\n",
      "- application_type     1    22191 22281\n",
      "- loan_amnt            1    22192 22282\n",
      "- home_ownership       5    22200 22282\n",
      "- term                 1    22199 22289\n",
      "- emp_length          11    22220 22290\n",
      "- delinq_2yrs          1    22203 22293\n",
      "- verification_status  2    22206 22294\n",
      "- log_inc              1    22234 22324\n",
      "- purpose             13    22261 22327\n",
      "- grade                6    22397 22477\n",
      "- int_rate             1    22631 22721\n",
      "\n",
      "Step:  AIC=22277.62\n",
      "bad_status ~ loan_amnt + term + int_rate + grade + emp_length + \n",
      "    home_ownership + open_acc + purpose + application_type + \n",
      "    delinq_2yrs + verification_status + log_inc\n",
      "\n",
      "                      Df Deviance   AIC\n",
      "<none>                      22188 22278\n",
      "- open_acc             1    22190 22278\n",
      "- application_type     1    22191 22279\n",
      "- loan_amnt            1    22192 22280\n",
      "- home_ownership       5    22200 22280\n",
      "- term                 1    22199 22287\n",
      "- emp_length          11    22220 22288\n",
      "- delinq_2yrs          1    22203 22291\n",
      "- verification_status  2    22207 22293\n",
      "- log_inc              1    22234 22322\n",
      "- purpose             13    22262 22326\n",
      "- grade                6    22397 22475\n",
      "- int_rate             1    22631 22719\n"
     ]
    }
   ],
   "source": [
    "AIC_test = stepAIC(model)"
   ]
  },
  {
   "cell_type": "markdown",
   "metadata": {},
   "source": [
    "The step-wise AIC function came up with the follow features as significant to the model:\n",
    "\n",
    "1. loan_amnt\n",
    "2. term\n",
    "3. int_rate\n",
    "4. grade\n",
    "5. emp_length\n",
    "6. home_ownership\n",
    "7. open_acc\n",
    "8. purpose\n",
    "9. application_type\n",
    "10. delinq_2yrs\n",
    "11. verification_status\n",
    "12. log_inc\n",
    "\n",
    "We removed eight other features in the process. Next let's look at our baseline model (with all features) and our step-wise AIC optimized model. I will also manually choose features for a third model to compar with our stepwise model."
   ]
  },
  {
   "cell_type": "code",
   "execution_count": 110,
   "metadata": {
    "collapsed": true
   },
   "outputs": [],
   "source": [
    "base.model = naiveBayes(factor(bad_status) ~ ., data=train)"
   ]
  },
  {
   "cell_type": "code",
   "execution_count": 111,
   "metadata": {
    "collapsed": true
   },
   "outputs": [],
   "source": [
    "opt.model = naiveBayes(factor(bad_status) ~ loan_amnt + term + int_rate + grade + emp_length + \n",
    "    home_ownership + open_acc + purpose + application_type + \n",
    "    delinq_2yrs + verification_status + log_inc, data=train)"
   ]
  },
  {
   "cell_type": "code",
   "execution_count": null,
   "metadata": {
    "collapsed": true
   },
   "outputs": [],
   "source": [
    "man.model = naiveBayes(factor(bad_status) ~ loan_amnt + int_rate + grade + emp_length + \n",
    "    home_ownership + purpose + log_inc, data=train)"
   ]
  },
  {
   "cell_type": "code",
   "execution_count": 112,
   "metadata": {
    "collapsed": false
   },
   "outputs": [],
   "source": [
    "base.pred = predict(base.model, test_x)\n",
    "opt.pred = predict(opt.model, test_x)\n",
    "man.pred = predict(man.model, test_x)"
   ]
  },
  {
   "cell_type": "code",
   "execution_count": 263,
   "metadata": {
    "collapsed": false
   },
   "outputs": [
    {
     "data": {
      "text/html": [
       "'Base Model Confusion Matrix'"
      ],
      "text/latex": [
       "'Base Model Confusion Matrix'"
      ],
      "text/markdown": [
       "'Base Model Confusion Matrix'"
      ],
      "text/plain": [
       "[1] \"Base Model Confusion Matrix\""
      ]
     },
     "metadata": {},
     "output_type": "display_data"
    },
    {
     "data": {
      "text/plain": [
       "Confusion Matrix and Statistics\n",
       "\n",
       "          Reference\n",
       "Prediction     0     1\n",
       "         0 43465   824\n",
       "         1    72     7\n",
       "                                          \n",
       "               Accuracy : 0.9798          \n",
       "                 95% CI : (0.9785, 0.9811)\n",
       "    No Information Rate : 0.9813          \n",
       "    P-Value [Acc > NIR] : 0.9884          \n",
       "                                          \n",
       "                  Kappa : 0.0122          \n",
       " Mcnemar's Test P-Value : <2e-16          \n",
       "                                          \n",
       "            Sensitivity : 0.0084236       \n",
       "            Specificity : 0.9983462       \n",
       "         Pos Pred Value : 0.0886076       \n",
       "         Neg Pred Value : 0.9813949       \n",
       "             Prevalence : 0.0187297       \n",
       "         Detection Rate : 0.0001578       \n",
       "   Detection Prevalence : 0.0017806       \n",
       "      Balanced Accuracy : 0.5033849       \n",
       "                                          \n",
       "       'Positive' Class : 1               \n",
       "                                          "
      ]
     },
     "metadata": {},
     "output_type": "display_data"
    }
   ],
   "source": [
    "paste(\"Base Model Confusion Matrix\")\n",
    "confusionMatrix(base.pred, test_y, positive = '1')"
   ]
  },
  {
   "cell_type": "code",
   "execution_count": 264,
   "metadata": {
    "collapsed": false,
    "scrolled": false
   },
   "outputs": [
    {
     "data": {
      "text/html": [
       "'AIC-Optimized Model Confusion Matrix'"
      ],
      "text/latex": [
       "'AIC-Optimized Model Confusion Matrix'"
      ],
      "text/markdown": [
       "'AIC-Optimized Model Confusion Matrix'"
      ],
      "text/plain": [
       "[1] \"AIC-Optimized Model Confusion Matrix\""
      ]
     },
     "metadata": {},
     "output_type": "display_data"
    },
    {
     "data": {
      "text/plain": [
       "Confusion Matrix and Statistics\n",
       "\n",
       "          Reference\n",
       "Prediction     0     1\n",
       "         0 43506   828\n",
       "         1    31     3\n",
       "                                          \n",
       "               Accuracy : 0.9806          \n",
       "                 95% CI : (0.9793, 0.9819)\n",
       "    No Information Rate : 0.9813          \n",
       "    P-Value [Acc > NIR] : 0.8409          \n",
       "                                          \n",
       "                  Kappa : 0.0055          \n",
       " Mcnemar's Test P-Value : <2e-16          \n",
       "                                          \n",
       "            Sensitivity : 3.610e-03       \n",
       "            Specificity : 9.993e-01       \n",
       "         Pos Pred Value : 8.824e-02       \n",
       "         Neg Pred Value : 9.813e-01       \n",
       "             Prevalence : 1.873e-02       \n",
       "         Detection Rate : 6.762e-05       \n",
       "   Detection Prevalence : 7.663e-04       \n",
       "      Balanced Accuracy : 5.014e-01       \n",
       "                                          \n",
       "       'Positive' Class : 1               \n",
       "                                          "
      ]
     },
     "metadata": {},
     "output_type": "display_data"
    }
   ],
   "source": [
    "paste('AIC-Optimized Model Confusion Matrix')\n",
    "confusionMatrix(opt.pred, factor(test_y), positive = '1')"
   ]
  },
  {
   "cell_type": "code",
   "execution_count": 265,
   "metadata": {
    "collapsed": false
   },
   "outputs": [
    {
     "data": {
      "text/plain": [
       "Confusion Matrix and Statistics\n",
       "\n",
       "          Reference\n",
       "Prediction     0     1\n",
       "         0 43532   830\n",
       "         1     5     1\n",
       "                                          \n",
       "               Accuracy : 0.9812          \n",
       "                 95% CI : (0.9799, 0.9824)\n",
       "    No Information Rate : 0.9813          \n",
       "    P-Value [Acc > NIR] : 0.5648          \n",
       "                                          \n",
       "                  Kappa : 0.0021          \n",
       " Mcnemar's Test P-Value : <2e-16          \n",
       "                                          \n",
       "            Sensitivity : 1.203e-03       \n",
       "            Specificity : 9.999e-01       \n",
       "         Pos Pred Value : 1.667e-01       \n",
       "         Neg Pred Value : 9.813e-01       \n",
       "             Prevalence : 1.873e-02       \n",
       "         Detection Rate : 2.254e-05       \n",
       "   Detection Prevalence : 1.352e-04       \n",
       "      Balanced Accuracy : 5.005e-01       \n",
       "                                          \n",
       "       'Positive' Class : 1               \n",
       "                                          "
      ]
     },
     "metadata": {},
     "output_type": "display_data"
    }
   ],
   "source": [
    "confusionMatrix(man.pred, test_y, positive = '1')"
   ]
  },
  {
   "cell_type": "code",
   "execution_count": 260,
   "metadata": {
    "collapsed": false
   },
   "outputs": [
    {
     "data": {
      "text/html": [
       "'Base Model F1 Score'"
      ],
      "text/latex": [
       "'Base Model F1 Score'"
      ],
      "text/markdown": [
       "'Base Model F1 Score'"
      ],
      "text/plain": [
       "[1] \"Base Model F1 Score\""
      ]
     },
     "metadata": {},
     "output_type": "display_data"
    },
    {
     "data": {
      "text/html": [
       "0.0153846153846154"
      ],
      "text/latex": [
       "0.0153846153846154"
      ],
      "text/markdown": [
       "0.0153846153846154"
      ],
      "text/plain": [
       "[1] 0.01538462"
      ]
     },
     "metadata": {},
     "output_type": "display_data"
    },
    {
     "data": {
      "text/html": [
       "'AIC-Optimized Model F1 Score'"
      ],
      "text/latex": [
       "'AIC-Optimized Model F1 Score'"
      ],
      "text/markdown": [
       "'AIC-Optimized Model F1 Score'"
      ],
      "text/plain": [
       "[1] \"AIC-Optimized Model F1 Score\""
      ]
     },
     "metadata": {},
     "output_type": "display_data"
    },
    {
     "data": {
      "text/html": [
       "0.0069364161849711"
      ],
      "text/latex": [
       "0.0069364161849711"
      ],
      "text/markdown": [
       "0.0069364161849711"
      ],
      "text/plain": [
       "[1] 0.006936416"
      ]
     },
     "metadata": {},
     "output_type": "display_data"
    },
    {
     "data": {
      "text/html": [
       "'Manual Model F1 Score'"
      ],
      "text/latex": [
       "'Manual Model F1 Score'"
      ],
      "text/markdown": [
       "'Manual Model F1 Score'"
      ],
      "text/plain": [
       "[1] \"Manual Model F1 Score\""
      ]
     },
     "metadata": {},
     "output_type": "display_data"
    },
    {
     "data": {
      "text/html": [
       "0.002389486260454"
      ],
      "text/latex": [
       "0.002389486260454"
      ],
      "text/markdown": [
       "0.002389486260454"
      ],
      "text/plain": [
       "[1] 0.002389486"
      ]
     },
     "metadata": {},
     "output_type": "display_data"
    }
   ],
   "source": [
    "paste('Base Model F1 Score')\n",
    "F1_Score(test_y, base.pred, positive='1')\n",
    "paste('AIC-Optimized Model F1 Score')\n",
    "F1_Score(test_y, opt.pred, positive='1')\n",
    "paste('Manual Model F1 Score')\n",
    "F1_Score(test_y, man.pred, positive='1')"
   ]
  },
  {
   "cell_type": "markdown",
   "metadata": {},
   "source": [
    "Our AIC-optimized model and manual model perform worse than our base line model, which took all features into account during the training process. It looks like our step-wise AIC removed the significant features. It is a little misleading to see the accuracy score increase with the optimized model, but that does not mean it is a better model. Our F1 score reveals that the baseline model is the preferred model of the three."
   ]
  },
  {
   "cell_type": "markdown",
   "metadata": {},
   "source": [
    "## Insights and Conclusions"
   ]
  },
  {
   "cell_type": "markdown",
   "metadata": {},
   "source": [
    "### The features"
   ]
  },
  {
   "cell_type": "markdown",
   "metadata": {},
   "source": [
    "After exploring are features and comparing the two statuses of loans (good and bad), we can build a functional model that successfully trains on our data with the optimal features to predict loans that will be in bad statuses.\n",
    "\n",
    "*Data exploration*\n",
    "\n",
    "Some key insights from our data analysis includes:\n",
    "1. There are significant differences between good and bad loans according to home ownership and annual income.\n",
    "2. Most loans taken out are for loan consolidation and credit card debt payement.\n",
    "3. Loans with bad statuses are more likely to be owned by a lender with other delinquent loan accounts than those loans with good statuses.\n",
    "4. Interest rates are usually higher for bad loans than good loans.\n",
    "\n",
    "*Predictive Model*\n",
    "\n",
    "Using step-wise AIC,our optimal Naive Bayes Classifier performed better according to accuracy but worse according to the preferred metric, F1 score. A better model would require further examination of our features and, perhaps, some feature transformations."
   ]
  },
  {
   "cell_type": "code",
   "execution_count": null,
   "metadata": {
    "collapsed": true
   },
   "outputs": [],
   "source": []
  }
 ],
 "metadata": {
  "kernelspec": {
   "display_name": "R",
   "language": "R",
   "name": "ir"
  },
  "language_info": {
   "codemirror_mode": "r",
   "file_extension": ".r",
   "mimetype": "text/x-r-source",
   "name": "R",
   "pygments_lexer": "r",
   "version": "3.3.3"
  }
 },
 "nbformat": 4,
 "nbformat_minor": 0
}
